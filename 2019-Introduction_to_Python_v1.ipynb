{
 "cells": [
  {
   "cell_type": "markdown",
   "metadata": {},
   "source": [
    "# Workshop 0 - Introduction to Python [1 Week]"
   ]
  },
  {
   "cell_type": "markdown",
   "metadata": {},
   "source": [
    "## Objectives:\n",
    "\n",
    "* Setup your tools and working environment: Anaconda distribution\n",
    "* Join a group (you will work in groups of two) in consultation with your demonstrator.\n",
    "* Access to online resources for learning Python programming\n",
    "* A brief overview of Python basics.\n",
    "* A simple exercise\n",
    "\n",
    "> __Common objectives of all workshops:__\n",
    "> Gain hands-on experience and learn by doing! Understand how theoretical knowledge discussed in lectures relates to practice. Develop motivation for gaining further theoretical and practical knowledge beyond the subject material."
   ]
  },
  {
   "cell_type": "markdown",
   "metadata": {},
   "source": [
    "## Table of contents\n",
    "1. [Introduction](#Introduction)\n",
    "    - [Motivation](#Motivation)\n",
    "    - [Python version](#PythonVersion)\n",
    "    - [Tools for Python Development](#Tools)\n",
    "    - [Jupyter Notebook Quick Start](#Jupyter)\n",
    "    - [Package management](#PackageManagement)\n",
    "2. [Online Resources](#LearningPython)\n",
    "3. [Elements of Python programming](#ElementsOfPythonProgramming)\n",
    "    - [Variable assignment](#VariableAssignment)\n",
    "    - [Basic Data Types](#BasicDataTypes)\n",
    "    - [Data Structures Overview](#DataStructures)\n",
    "    - [Conditional Statements](#ConditionalStatements)\n",
    "    - [Functions](#Functions)\n",
    "    - [Modules](#Modules)\n",
    "    - [Classes and Objects](#ClassesandObjects)\n",
    "    - [Special Functions](#SpecialFunctions)\n",
    "4. [External Libraries](#Libraries)\n",
    "    - [Numpy](#Numpy)\n",
    "    - [Matplotlib](#Matplotlib)\n",
    "    - [Scipy](#Scipy)\n",
    "5. [Exercise - Number Guessing Game](#Exercise)"
   ]
  },
  {
   "cell_type": "markdown",
   "metadata": {},
   "source": [
    "## Team  <a name=\"team\"></a>"
   ]
  },
  {
   "cell_type": "markdown",
   "metadata": {},
   "source": [
    "Lecturer: \n",
    "- Assoc. Prof. **Tansu Alpcan** \n",
    "- email: tansu.alpcan@unimelb.edu.au"
   ]
  },
  {
   "cell_type": "markdown",
   "metadata": {
    "ExecuteTime": {
     "end_time": "2019-02-19T01:03:55.282327Z",
     "start_time": "2019-02-19T01:03:55.278666Z"
    }
   },
   "source": [
    "Tutors:\n",
    "- **Mr. Sandamal Weerasinghe**, email: pweerasinghe@student.unimelb.edu.au\n",
    "- **Mr. Sergey Iakovlev**, email: siakovlev@student.unimelb.edu.au\n",
    "- **Ms. Fateme Fahiman**, email: ffahiman@student.unimelb.edu.au"
   ]
  },
  {
   "cell_type": "markdown",
   "metadata": {},
   "source": [
    "## Motivation  for learning Python <a name=\"Motivation\"></a>"
   ]
  },
  {
   "cell_type": "markdown",
   "metadata": {},
   "source": [
    "1. #1 in “2018 Top Programming Languages” by IEEE Spectrum: [link](https://spectrum.ieee.org/at-work/innovation/the-2018-top-programming-languages)\n",
    "\n",
    "2. As of February 2019, the Python Package Index (PyPI), the official repository for third-party Python software, contains over 130,000 packages with a wide range of functionality ([link](http://www.modulecounts.com/))\n",
    "\n",
    "\n",
    "3. Python is versatile language that is used for:\n",
    "    - Data analysis\n",
    "    - Web development\n",
    "    - Trading, finance\n",
    "    - Science\n",
    "    - Scrypting (3ds Max, Maya, Inskape)\n",
    "    - etc\n",
    "\n",
    "4. Python has a broad standard library\n",
    "\n",
    "5. Great first language to learn\n",
    "    - Low syntactic overhead\n",
    "    \n",
    "6. Widely used in industry:\n",
    "    - [Reddit](https://www.reddit.com/) is written entirely in Python\n",
    "    - Google, Amazon, Instagram, NASA, Facebook, etc. use Python in development. "
   ]
  },
  {
   "cell_type": "markdown",
   "metadata": {},
   "source": [
    "### Python 2.x or 3.x? <a name=\"PythonVersion\"></a>"
   ]
  },
  {
   "cell_type": "markdown",
   "metadata": {},
   "source": [
    "- Python 2.x is legacy\n",
    "- Python 3.x is the present and future of the language\n",
    "    - There are a few minor downsides, such as very slightly worse library support\n",
    "\n",
    "**We will be using the latest stable Python 3 release**"
   ]
  },
  {
   "cell_type": "markdown",
   "metadata": {},
   "source": [
    "## Tools for Python development <a name=\"Tools\"></a>"
   ]
  },
  {
   "cell_type": "markdown",
   "metadata": {},
   "source": [
    "### Spyder IDE\n",
    "- https://www.spyder-ide.org/\n",
    "- Open-source, free Integrated Development Environment (IDE): https://www.spyder-ide.org/\n",
    "    - Multi-language editor with features such as syntax colouring, code analysis.\n",
    "- Console\n",
    "    - Enter, interact with and visualize data, inside a command interpreter.\n",
    "- Object Inspector\n",
    "    - Automatically shows available documentation when the user is instantiating a class or calling a function\n",
    "- Debugger and Variable Explorer\n",
    "- History Log\n",
    "\n",
    "\n",
    "### PyCharm IDE\n",
    "- https://www.jetbrains.com/pycharm/\n",
    "- Community edition available for free\n",
    "- Most of its features are the same as of Spyder IDE\n",
    "- Code analysis is very powerful\n",
    "\n",
    "### Jupyter Notebook\n",
    "- https://jupyter.org/\n",
    "- Free\n",
    "- Ideal for prototyping and quick learning\n",
    "- Provides rich and interactive output. Supports HTML, Markdown, LaTeX, images and videos.\n",
    "- Easy to use\n",
    "\n",
    "**We will be using Jupyter Notebook during workshops**"
   ]
  },
  {
   "cell_type": "markdown",
   "metadata": {},
   "source": [
    "## Jupyter Notebook quick start <a name=\"Jupyter\"></a>"
   ]
  },
  {
   "cell_type": "markdown",
   "metadata": {},
   "source": [
    "- For a quick tour click: `Help - User Interface Tour`\n",
    "- Most used keyboard shortcuts:\n",
    "    - `Ctrl + Enter` (`command + return` in Mac OS) to execute code in the current cell.\n",
    "    - `Shift + Enter` (`shift + return` in Mac OS) to execture code in the current cell and move to the next one.\n",
    "    - `a` and `b` to create a cell above or below the current one.\n",
    "    - `Shift + Tab` (with curser next to a python function) to view the documentation of that function.  \n",
    "- Full list of shortcuts can be found under `Help - Keyboard shortcuts`"
   ]
  },
  {
   "cell_type": "code",
   "execution_count": null,
   "metadata": {
    "collapsed": true
   },
   "outputs": [],
   "source": [
    "# TODO: execute this cell to see the main principles that influenced Python programming language \n",
    "import this"
   ]
  },
  {
   "cell_type": "code",
   "execution_count": null,
   "metadata": {
    "ExecuteTime": {
     "end_time": "2019-02-19T00:19:38.994449Z",
     "start_time": "2019-02-19T00:19:38.992408Z"
    },
    "collapsed": true
   },
   "outputs": [],
   "source": [
    "# To demonstrate Shift + Tab hotkey execute this cell and then move to the next one\n",
    "import numpy as np"
   ]
  },
  {
   "cell_type": "code",
   "execution_count": null,
   "metadata": {
    "ExecuteTime": {
     "end_time": "2019-02-19T00:20:57.648440Z",
     "start_time": "2019-02-19T00:20:57.645230Z"
    },
    "collapsed": true
   },
   "outputs": [],
   "source": [
    "# Place cursor between brackets and press Shift + Tab (press Tab once again holding Shift to get additional info)\n",
    "np.array([0])"
   ]
  },
  {
   "cell_type": "markdown",
   "metadata": {},
   "source": [
    "## Package management <a name=\"PackageManagement\"></a> - Anaconda Navigator"
   ]
  },
  {
   "cell_type": "markdown",
   "metadata": {},
   "source": [
    "<span style=\"color:red\">*Note: The computers in the lab already have a conda environment called `ELEN90088` for your use, make sure you activate that environment before installing any packages.*</span>\n",
    "\n",
    "There are different tools for package management in Python:\n",
    "\n",
    "<img src=\"img/pkg_mgmt.jpg\" width=800px />\n",
    "\n",
    "- Anaconda Navigator: https://docs.anaconda.com/anaconda/navigator/tutorials/manage-packages/. \n",
    "    - [Short instruction](./BYOD_Setup_Information.ipynb) \n",
    "    - **We will use Anaconda Navigator as the main python package management method**\n",
    "\n",
    "- Command line:\n",
    "    - If you wish to use command line, the alternative is (again within Anaconda):\n",
    "https://conda.io/projects/conda/en/latest/user-guide/tasks/manage-pkgs.html\n",
    "    - As a last resort (for Anaconda environment), you can use the generic `pip` to install Python packages. There are two ways:\n",
    "        1. From Operating System:\n",
    "            - Open command prompt/console\n",
    "                - `Ctrl + R` -> `cmd` -> `Enter` in Windows\n",
    "                - `Terminal` app in Mac OS\n",
    "                - `Ctrl + Alt + T` in Ubuntu Linux. For other Linux distributions please consult a corresponding documentation\n",
    "            - Type `pip install <package_name>`\n",
    "\n",
    "        2. From Jupyter Notebook:\n",
    "            - Type `!pip install <package_name>`\n",
    "\n",
    "        _Optional_. Also, you can execute any other command that can be run from the command line directly, i.e. \n",
    "        - `!python -V` prompts python interpreter version\n",
    "        - `!ls` - is a standard command to list computer files in Unix and Unix-like operating systems."
   ]
  },
  {
   "cell_type": "markdown",
   "metadata": {},
   "source": [
    "### Example\n",
    "- Type `!pip install numpy` in the cell below to install NumPy package.\n",
    "- Press `Ctrl + Enter` (`Control` + `Return` on MacOS) to execute it\n",
    "- Type `!pip list` in the next cell to list all packages that are installed in your current Conda environment\n",
    "- Press `Ctrl + Enter` (`Control` + `Return` on MacOS) to execute it"
   ]
  },
  {
   "cell_type": "code",
   "execution_count": null,
   "metadata": {
    "ExecuteTime": {
     "end_time": "2019-02-12T03:54:29.784939Z",
     "start_time": "2019-02-12T03:54:28.493237Z"
    },
    "collapsed": true
   },
   "outputs": [],
   "source": [
    "!pip install numpy"
   ]
  },
  {
   "cell_type": "code",
   "execution_count": null,
   "metadata": {
    "ExecuteTime": {
     "end_time": "2019-02-11T05:15:02.844353Z",
     "start_time": "2019-02-11T05:15:02.721638Z"
    },
    "collapsed": true
   },
   "outputs": [],
   "source": [
    "!ls"
   ]
  },
  {
   "cell_type": "code",
   "execution_count": null,
   "metadata": {
    "ExecuteTime": {
     "end_time": "2019-02-12T03:54:21.711975Z",
     "start_time": "2019-02-12T03:54:21.583375Z"
    },
    "collapsed": true
   },
   "outputs": [],
   "source": [
    "!python -V"
   ]
  },
  {
   "cell_type": "markdown",
   "metadata": {},
   "source": [
    "## Learning Python - Online Resources <a name=\"LearningPython\"></a>"
   ]
  },
  {
   "cell_type": "markdown",
   "metadata": {},
   "source": [
    "### Python Language Resources and Tutorials\n",
    "* [Python tutorial](https://docs.python.org/3/tutorial/index.html)\n",
    "* [Library reference/documentation](https://docs.python.org/3/reference/index.html#reference-index)\n",
    "* [Additional Python tutorials and learning resources](https://wiki.python.org/moin/BeginnersGuide/Programmers)\n",
    "* [Numpy for Matlab Users](http://wiki.scipy.org/NumPy_for_Matlab_Users)\n",
    "* [Getting started with Python for science](http://scipy-lectures.org/intro/index.html)\n",
    "* [Kaggle - learn python](https://www.kaggle.com/learn/python)\n",
    "\n",
    "### 10 - 20 minute tutorials\n",
    "* [http://www.learnpython.org/](http://www.learnpython.org/)\n",
    "* [http://www.stavros.io/tutorials/python/](http://www.stavros.io/tutorials/python/)\n",
    "* [https://developers.google.com/edu/python/introduction](https://developers.google.com/edu/python/introduction)\n",
    "\n",
    "### Markdown resources\n",
    "\n",
    "* [https://en.wikipedia.org/wiki/Markdown](https://en.wikipedia.org/wiki/Markdown)\n",
    "* [https://github.com/adam-p/markdown-here/wiki/Markdown-Cheatsheet](https://github.com/adam-p/markdown-here/wiki/Markdown-Cheatsheet)\n",
    "* [https://jupyter-notebook.readthedocs.io/en/stable/examples/Notebook/Working%20With%20Markdown%20Cells.html](https://jupyter-notebook.readthedocs.io/en/stable/examples/Notebook/Working%20With%20Markdown%20Cells.html)"
   ]
  },
  {
   "cell_type": "markdown",
   "metadata": {},
   "source": [
    "# A Brief Introduction to Python"
   ]
  },
  {
   "cell_type": "markdown",
   "metadata": {},
   "source": [
    "## Elements of Python programming <a name=\"ElementsOfPythonProgramming\"></a>\n",
    "\n",
    "- Declare a variable `x` and assign it an integer value: `x = 5`.\n",
    "- Comments start with `#` symbol, i.e. `# This is a comment`."
   ]
  },
  {
   "cell_type": "code",
   "execution_count": null,
   "metadata": {
    "ExecuteTime": {
     "end_time": "2019-02-12T02:04:30.116156Z",
     "start_time": "2019-02-12T02:04:30.112033Z"
    },
    "collapsed": true
   },
   "outputs": [],
   "source": [
    "x = 34.5 - 23 # right hand side can be an expression\n",
    "y = \"Hello\" # or a string\n",
    "\n",
    "z = 3 # let us assign it to an integer value and write a simple conditional statement\n",
    "if z == 3 or y == \"Hello\":\n",
    "    x = x + 1\n",
    "    y = y + \"World\" # String concatenation\n",
    "    print(y)\n",
    "    print(x)"
   ]
  },
  {
   "cell_type": "code",
   "execution_count": null,
   "metadata": {
    "collapsed": true
   },
   "outputs": [],
   "source": [
    "# TODO: The code above outputs \"HelloWorld\" without spacing. Could you fix this?"
   ]
  },
  {
   "cell_type": "code",
   "execution_count": null,
   "metadata": {
    "collapsed": true
   },
   "outputs": [],
   "source": [
    "# TODO: Change the code above so that it outputs the result only when both `z == 3` and `y == \"Hello\"` are true."
   ]
  },
  {
   "cell_type": "code",
   "execution_count": null,
   "metadata": {
    "collapsed": true
   },
   "outputs": [],
   "source": [
    "# TODO: Print \"HelloWorld\" when x = 999"
   ]
  },
  {
   "cell_type": "markdown",
   "metadata": {},
   "source": [
    "### Variable assignment <a name=\"VariableAssignment\"></a>\n",
    "\n",
    "- The first assignment to a variable creates it. Variable types don’t need to be declared. Python figures out the variable types on its own. \n",
    "- Case sensitive, can not start with numbers\n",
    "- No punctuation characters `@% $`\n",
    "- Reserved words: `for, while, if, class, print, not, finally, lambda`\n",
    "- _Optional_. Binding a variable in Python means setting a name to hold a **reference** to some\n",
    "object.\n",
    "- The basic printing command is `print()`"
   ]
  },
  {
   "cell_type": "code",
   "execution_count": 6,
   "metadata": {
    "ExecuteTime": {
     "end_time": "2019-02-12T04:36:38.220984Z",
     "start_time": "2019-02-12T04:36:38.218014Z"
    },
    "collapsed": false
   },
   "outputs": [
    {
     "name": "stdout",
     "output_type": "stream",
     "text": [
      "5\n",
      "Type: <type 'int'>\n",
      "Type:\n"
     ]
    }
   ],
   "source": [
    "a = 5\n",
    "\n",
    "# print value of a\n",
    "print(a)\n",
    "\n",
    "# Formatted output - pythonic way\n",
    "print(\"Type: {}\".format(type(a)))\n",
    "print(\"Type:\" .format(type(a)))"
   ]
  },
  {
   "cell_type": "markdown",
   "metadata": {},
   "source": [
    "Assignment uses `=` and comparison uses `==`"
   ]
  },
  {
   "cell_type": "code",
   "execution_count": null,
   "metadata": {
    "ExecuteTime": {
     "end_time": "2019-02-11T12:32:11.893262Z",
     "start_time": "2019-02-11T12:32:11.890371Z"
    },
    "collapsed": true
   },
   "outputs": [],
   "source": [
    "# Compare these two:\n",
    "a = 5 # assignment\n",
    "b = 4 # assignment\n",
    "b == a # comparison (returns True or False)\n",
    "print(b == a)"
   ]
  },
  {
   "cell_type": "markdown",
   "metadata": {},
   "source": [
    "For numbers `+ - * / %` are as expected"
   ]
  },
  {
   "cell_type": "code",
   "execution_count": null,
   "metadata": {
    "ExecuteTime": {
     "end_time": "2019-02-11T12:34:12.810322Z",
     "start_time": "2019-02-11T12:34:12.806188Z"
    },
    "collapsed": true
   },
   "outputs": [],
   "source": [
    "print(\"a = {}, b = {}\".format(a, b))\n",
    "print(\"+ operation: {}\".format(a + b))\n",
    "print(\"- operation: {}\".format(a - b))\n",
    "print(\"* operation: {}\".format(a * b))\n",
    "print(\"/ operation: {}\".format(a / b))\n",
    "print(\"% operation: {}\".format(a % b)) "
   ]
  },
  {
   "cell_type": "markdown",
   "metadata": {},
   "source": [
    "Logical operators are words `and, or, not` not symbols"
   ]
  },
  {
   "cell_type": "code",
   "execution_count": 1,
   "metadata": {
    "ExecuteTime": {
     "end_time": "2019-02-11T12:42:31.573537Z",
     "start_time": "2019-02-11T12:42:31.570646Z"
    },
    "collapsed": false
   },
   "outputs": [
    {
     "name": "stdout",
     "output_type": "stream",
     "text": [
      "True\n",
      "False\n",
      "False\n"
     ]
    }
   ],
   "source": [
    "a = True\n",
    "b = False\n",
    "print(a or b)\n",
    "print(a and b)\n",
    "print(not a)"
   ]
  },
  {
   "cell_type": "markdown",
   "metadata": {},
   "source": [
    "### Basic Data Types <a name=\"BasicDataTypes\"></a>\n",
    "\n",
    "- Most commont data types\n",
    "    - Integers: `x = 2`\n",
    "    - Floats: `x = 3.456`\n",
    "    - Strings: `s = \"MyString\"`\n",
    "        - Can use “” or ‘’ to specify: `\"abc\"` or `'abc'`\n",
    "        - Unmatched `'` can occur within the string, i.e. `\"matt's\"`\n",
    "    \n",
    "- Python determines the type of the reference automatically based on the data object assigned\n",
    "to it.\n",
    "- Names in Python do not have an intrinsic type. Objects have types."
   ]
  },
  {
   "cell_type": "code",
   "execution_count": 8,
   "metadata": {
    "ExecuteTime": {
     "end_time": "2019-02-12T04:25:35.746625Z",
     "start_time": "2019-02-12T04:25:35.743996Z"
    },
    "collapsed": true
   },
   "outputs": [],
   "source": [
    "# a is assigned to an integer 5\n",
    "a = 5 \n",
    "\n",
    "# b is a float number\n",
    "b = 2.456 \n",
    "\n",
    "# c is assigned to a string\n",
    "c = \"I'm a string\" "
   ]
  },
  {
   "cell_type": "code",
   "execution_count": 12,
   "metadata": {
    "collapsed": false
   },
   "outputs": [
    {
     "name": "stdout",
     "output_type": "stream",
     "text": [
      "I'm a string\n"
     ]
    }
   ],
   "source": [
    "# TODO: identify type of c = a + b?\n",
    "z = c # Answer is `2`, integer division\n",
    "print(z)"
   ]
  },
  {
   "cell_type": "code",
   "execution_count": null,
   "metadata": {
    "collapsed": true
   },
   "outputs": [],
   "source": [
    "# TODO: "
   ]
  },
  {
   "cell_type": "code",
   "execution_count": null,
   "metadata": {
    "collapsed": true
   },
   "outputs": [],
   "source": [
    "# TODO:"
   ]
  },
  {
   "cell_type": "code",
   "execution_count": 10,
   "metadata": {
    "ExecuteTime": {
     "end_time": "2019-02-12T04:25:37.749251Z",
     "start_time": "2019-02-12T04:25:37.746287Z"
    },
    "collapsed": false
   },
   "outputs": [
    {
     "name": "stdout",
     "output_type": "stream",
     "text": [
      "2\n"
     ]
    }
   ],
   "source": [
    "z = int(5 / 2) # Answer is `2`, integer division\n",
    "print(z)"
   ]
  },
  {
   "cell_type": "markdown",
   "metadata": {},
   "source": []
  },
  {
   "cell_type": "code",
   "execution_count": null,
   "metadata": {
    "collapsed": true
   },
   "outputs": [],
   "source": []
  },
  {
   "cell_type": "markdown",
   "metadata": {},
   "source": [
    "##### Whitespace\n",
    "Whitespace is meaningful in Python: especially indentation and placement of newlines.\n",
    "- Use a newline to end a line of code.\n",
    "- Use `\\` when must go to next line prematurely\n",
    "- No braces `{}` to mark blocks of code in Python. Use consistent indentation instead:\n",
    "```python\n",
    "    if True: \n",
    "        print(\"True\")\n",
    "    else:\n",
    "        print(\"False\")\n",
    "```\n",
    "- Often a colon appears at the start of a new block. (E.g. for function and class definitions.)\n",
    " "
   ]
  },
  {
   "cell_type": "markdown",
   "metadata": {},
   "source": [
    "### Data Structures Overview <a name=\"DataStructures\"></a>"
   ]
  },
  {
   "cell_type": "markdown",
   "metadata": {},
   "source": [
    "##### List\n",
    "- A sequence of arbitraty objects\n",
    "- List is created by enclosing them in square brackets: `[\"string\", 4, 10.5]`\n",
    "- List is an ordered (starting from zero onward) data structure\n",
    "- Variety of methods: https://www.w3schools.com/python/python_ref_list.asp\n",
    "- Good sources with many code examples: \n",
    "    - https://www.w3schools.com/python/python_lists.asp\n",
    "    - https://www.tutorialspoint.com/python/python_lists.htm"
   ]
  },
  {
   "cell_type": "code",
   "execution_count": null,
   "metadata": {
    "ExecuteTime": {
     "end_time": "2019-02-12T04:15:03.235201Z",
     "start_time": "2019-02-12T04:15:03.231347Z"
    },
    "collapsed": true
   },
   "outputs": [],
   "source": [
    "# create a simple list example\n",
    "list_example = [\"abc\", 34, 4.34, 23]\n",
    "print(list_example)\n",
    "\n",
    "# access the second element in the list\n",
    "print(list_example[1])\n",
    "\n",
    "# Change the first element\n",
    "list_example[0] = 100\n",
    "print(list_example)\n",
    "\n",
    "# "
   ]
  },
  {
   "cell_type": "markdown",
   "metadata": {},
   "source": [
    "##### Tuples\n",
    "\n",
    "- A simple _immutable_ _ordered_ sequence of items\n",
    "- Methods: https://www.w3schools.com/python/python_ref_tuple.asp\n",
    "- Items can be of mixed types, including collection types"
   ]
  },
  {
   "cell_type": "code",
   "execution_count": 14,
   "metadata": {
    "ExecuteTime": {
     "end_time": "2019-02-12T04:17:33.941310Z",
     "start_time": "2019-02-12T04:17:33.938334Z"
    },
    "collapsed": false
   },
   "outputs": [
    {
     "name": "stdout",
     "output_type": "stream",
     "text": [
      "4.56\n"
     ]
    }
   ],
   "source": [
    "# create a simple tuple example\n",
    "tuple_example = (23, 'abc', 4.56, (2,3), 'def')\n",
    "\n",
    "# print its 3rd element\n",
    "print(tuple_example[2])"
   ]
  },
  {
   "cell_type": "markdown",
   "metadata": {},
   "source": [
    "What is **immutable**?"
   ]
  },
  {
   "cell_type": "code",
   "execution_count": null,
   "metadata": {
    "ExecuteTime": {
     "end_time": "2019-02-12T02:21:16.740404Z",
     "start_time": "2019-02-12T02:21:16.734479Z"
    },
    "collapsed": true
   },
   "outputs": [],
   "source": [
    "# create a simple tuple\n",
    "a = (1, 2, 3)\n",
    "# attempt to change its second element to 5. Error!\n",
    "a[1] = 5\n",
    "print(a)"
   ]
  },
  {
   "cell_type": "code",
   "execution_count": null,
   "metadata": {
    "ExecuteTime": {
     "end_time": "2019-02-12T02:19:45.845442Z",
     "start_time": "2019-02-12T02:19:45.842862Z"
    },
    "collapsed": true
   },
   "outputs": [],
   "source": [
    "# create a simple list\n",
    "b = [1, 2, 3]\n",
    "# attempt to change its second element to 5. All good.\n",
    "b[1] = 5\n",
    "print(b)"
   ]
  },
  {
   "cell_type": "markdown",
   "metadata": {},
   "source": [
    "##### Strings\n",
    "- A sequence of characters:\n",
    "```python\n",
    "st = \"Hello World\"\n",
    "st = 'Hello World'\n",
    "st = \"\"\"This is a multi-line\n",
    "string that uses triple quotes.\"\"\"\n",
    "```\n",
    "- Broad library of methods, i.e. `len()`, `lower()`, `upper()`, etc. Full list is here: https://docs.python.org/release/2.5.2/lib/string-methods.html\n",
    "- Good sources with code examples:\n",
    "    - https://www.tutorialspoint.com/python/python_strings.htm\n",
    "    - https://www.w3schools.com/python/python_strings.asp"
   ]
  },
  {
   "cell_type": "code",
   "execution_count": 1,
   "metadata": {
    "ExecuteTime": {
     "end_time": "2019-02-12T04:52:17.620424Z",
     "start_time": "2019-02-12T04:52:17.617513Z"
    },
    "collapsed": false
   },
   "outputs": [
    {
     "name": "stdout",
     "output_type": "stream",
     "text": [
      "good morning\n",
      "good morning\n"
     ]
    }
   ],
   "source": [
    "# Operator + is used for string concatenation, i.e.\n",
    "a = \"good\"\n",
    "b = \"morning\"\n",
    "print(a + \" \" + b)\n",
    "print('{} {}'.format(a,b))\n",
    "\n",
    "# TODO: what is the result of \"42\" + \"69\"?"
   ]
  },
  {
   "cell_type": "markdown",
   "metadata": {},
   "source": [
    "Is `string` immutable?"
   ]
  },
  {
   "cell_type": "code",
   "execution_count": null,
   "metadata": {
    "ExecuteTime": {
     "end_time": "2019-02-12T04:53:55.484489Z",
     "start_time": "2019-02-12T04:53:55.482383Z"
    },
    "collapsed": true
   },
   "outputs": [],
   "source": [
    "# TODO: check if string is immutable"
   ]
  },
  {
   "cell_type": "markdown",
   "metadata": {},
   "source": [
    "_Optional_. Consider the following example. We create a string `a`, modify it, check the value of `a` and it has changed. Does this imply that `string` is actually a mutable type and we do not understand something? **No**. The trick is to check `id()` of the object that python creates. When the string `a` gets modified python creates a new object in a different part of memory. "
   ]
  },
  {
   "cell_type": "code",
   "execution_count": null,
   "metadata": {
    "ExecuteTime": {
     "end_time": "2019-02-12T02:28:51.033507Z",
     "start_time": "2019-02-12T02:28:51.030678Z"
    },
    "collapsed": true
   },
   "outputs": [],
   "source": [
    "a = \"Hello\"\n",
    "a +=\" World\"\n",
    "print(a)"
   ]
  },
  {
   "cell_type": "code",
   "execution_count": 2,
   "metadata": {
    "ExecuteTime": {
     "end_time": "2019-02-12T02:29:02.088837Z",
     "start_time": "2019-02-12T02:29:02.085815Z"
    },
    "collapsed": false
   },
   "outputs": [
    {
     "name": "stdout",
     "output_type": "stream",
     "text": [
      "String is Immutable\n"
     ]
    }
   ],
   "source": [
    "a = \"Hello\"\n",
    "identity_a = id(a)\n",
    "a += \" World\"\n",
    "new_identity_a = id(a)\n",
    "if identity_a != new_identity_a:\n",
    "    print(\"String is Immutable\")"
   ]
  },
  {
   "cell_type": "markdown",
   "metadata": {},
   "source": [
    "- We can access individual members of a tuple, list, or string using square bracket “array” notation.\n",
    "- Note that all are 0 based"
   ]
  },
  {
   "cell_type": "code",
   "execution_count": 15,
   "metadata": {
    "ExecuteTime": {
     "end_time": "2019-02-11T13:05:33.716110Z",
     "start_time": "2019-02-11T13:05:33.712790Z"
    },
    "collapsed": false
   },
   "outputs": [
    {
     "name": "stdout",
     "output_type": "stream",
     "text": [
      "abc\n",
      "('abc', 4.56)\n"
     ]
    },
    {
     "ename": "NameError",
     "evalue": "name 'list_example' is not defined",
     "output_type": "error",
     "traceback": [
      "\u001b[1;31m---------------------------------------------------------------------------\u001b[0m",
      "\u001b[1;31mNameError\u001b[0m                                 Traceback (most recent call last)",
      "\u001b[1;32m<ipython-input-15-ba1b89ec59a5>\u001b[0m in \u001b[0;36m<module>\u001b[1;34m()\u001b[0m\n\u001b[0;32m      1\u001b[0m \u001b[1;32mprint\u001b[0m\u001b[1;33m(\u001b[0m\u001b[0mtuple_example\u001b[0m\u001b[1;33m[\u001b[0m\u001b[1;36m1\u001b[0m\u001b[1;33m]\u001b[0m\u001b[1;33m)\u001b[0m\u001b[1;33m\u001b[0m\u001b[0m\n\u001b[0;32m      2\u001b[0m \u001b[1;32mprint\u001b[0m\u001b[1;33m(\u001b[0m\u001b[0mtuple_example\u001b[0m\u001b[1;33m[\u001b[0m\u001b[1;36m1\u001b[0m\u001b[1;33m:\u001b[0m\u001b[1;36m3\u001b[0m\u001b[1;33m]\u001b[0m\u001b[1;33m)\u001b[0m\u001b[1;33m\u001b[0m\u001b[0m\n\u001b[1;32m----> 3\u001b[1;33m \u001b[1;32mprint\u001b[0m\u001b[1;33m(\u001b[0m\u001b[0mlist_example\u001b[0m\u001b[1;33m[\u001b[0m\u001b[1;36m1\u001b[0m\u001b[1;33m]\u001b[0m\u001b[1;33m)\u001b[0m\u001b[1;33m\u001b[0m\u001b[0m\n\u001b[0m\u001b[0;32m      4\u001b[0m \u001b[1;32mprint\u001b[0m\u001b[1;33m(\u001b[0m\u001b[0mst\u001b[0m\u001b[1;33m[\u001b[0m\u001b[1;36m2\u001b[0m\u001b[1;33m:\u001b[0m\u001b[1;36m5\u001b[0m\u001b[1;33m]\u001b[0m\u001b[1;33m)\u001b[0m\u001b[1;33m\u001b[0m\u001b[0m\n",
      "\u001b[1;31mNameError\u001b[0m: name 'list_example' is not defined"
     ]
    }
   ],
   "source": [
    "print(tuple_example[1])\n",
    "print(tuple_example[1:3])\n",
    "print(list_example[1])\n",
    "print(st[2:5]) "
   ]
  },
  {
   "cell_type": "markdown",
   "metadata": {},
   "source": [
    "####  Dictionaries\n",
    "* Dictionaries store a mapping between a set of keys and a set of values.\n",
    "    * Keys can be any immutable type\n",
    "    * Values can be any type\n",
    "    * A single dictionary can store values of different types\n",
    "* Each entry has\n",
    "    * A **key**\n",
    "    * A **value**\n",
    "* No specific order\n",
    "* Possible to add, remove, and modify the values\n",
    "    * Example: telephone book"
   ]
  },
  {
   "cell_type": "code",
   "execution_count": 74,
   "metadata": {
    "collapsed": false
   },
   "outputs": [
    {
     "name": "stdout",
     "output_type": "stream",
     "text": [
      "N/A\n"
     ]
    }
   ],
   "source": [
    "phonebook = {'Andrew':8806336, 'Emily':6784346, 'Peter':7658344, 'Lewis':1122345} # initialize dictionary\n",
    "\"\"print(phonebook) # print all key-value pairs\n",
    "print(phonebook[\"Andrew\"]) # print the value corresponding to the key \"Andrew\"\n",
    "phonebook['Gingerbread'] = 1234567 # add a new key-value pair to the dictionary\n",
    "print(phonebook) # print all key-value pairs\n",
    "print(phonebook.get('Jason', 'N/A'))  # Get an element with a default; prints \"N/A\"\n",
    "print(phonebook.get('Emily', 'N/A'))    # Get an element with a default; prints \"6784346\"\"\"\n",
    "del phonebook['Andrew'] # delete the entry with the given key\n",
    "print(phonebook.get('Andrew', 'N/A')) # \"fish\" is no longer a key; prints \"N/A\""
   ]
  },
  {
   "cell_type": "markdown",
   "metadata": {},
   "source": [
    "### Conditional Statements <a name=\"ConditionalStatements\"></a>"
   ]
  },
  {
   "cell_type": "code",
   "execution_count": 17,
   "metadata": {
    "collapsed": true
   },
   "outputs": [],
   "source": [
    "# if statement\n",
    "def letterGrade(score):\n",
    "    if score >= 90:\n",
    "        letter = 'A'\n",
    "    elif score >= 80:\n",
    "        letter = 'B'\n",
    "    elif score >= 70:\n",
    "        letter = 'C'\n",
    "    elif score >= 60:\n",
    "        letter = 'D'\n",
    "    else:\n",
    "        letter = 'F'\n",
    "    return letter"
   ]
  },
  {
   "cell_type": "code",
   "execution_count": 18,
   "metadata": {
    "collapsed": false
   },
   "outputs": [
    {
     "name": "stdout",
     "output_type": "stream",
     "text": [
      "115\n",
      "114\n",
      "113\n",
      "The tea is cool enough.\n"
     ]
    }
   ],
   "source": [
    "# while loop\n",
    "temperature = 115\n",
    "while temperature > 112: # first while loop code\n",
    "    print(temperature)\n",
    "    temperature = temperature - 1\n",
    "print('The tea is cool enough.')"
   ]
  },
  {
   "cell_type": "code",
   "execution_count": 19,
   "metadata": {
    "collapsed": false
   },
   "outputs": [
    {
     "name": "stdout",
     "output_type": "stream",
     "text": [
      "C\n",
      "C++\n",
      "Perl\n",
      "Python\n"
     ]
    }
   ],
   "source": [
    "# for loop to iterate over a given sequence\n",
    "languages = [\"C\", \"C++\", \"Perl\", \"Python\"]\n",
    "for x in languages:\n",
    "    print(x)"
   ]
  },
  {
   "cell_type": "code",
   "execution_count": 20,
   "metadata": {
    "collapsed": false
   },
   "outputs": [
    {
     "name": "stdout",
     "output_type": "stream",
     "text": [
      "1: C\n",
      "2: C++\n",
      "3: Perl\n",
      "4: Python\n"
     ]
    }
   ],
   "source": [
    "# If you want access to the index of each element within the body of a loop, use the built-in enumerate function\n",
    "languages = [\"C\", \"C++\", \"Perl\", \"Python\"]\n",
    "for idx, lang in enumerate(languages):\n",
    "    print('{}: {}'.format(idx + 1, lang))"
   ]
  },
  {
   "cell_type": "markdown",
   "metadata": {},
   "source": [
    "### Functions <a name=\"Functions\"></a>\n",
    "* Functions are a convenient way to\n",
    "    * divide your code into useful blocks\n",
    "    * Make the code readable\n",
    "* `def` creates a function and assigns it a name\n",
    "* `return` sends a result back to the caller\n",
    "* Arguments are passed by assignment\n",
    "* Arguments and return types are not declared\n",
    "\n",
    "_Optional_. `*args` and `**kwargs` can be used to get arbitraty number of arguments in Python function. For more info please follow this [tutorial](https://pythontips.com/2013/08/04/args-and-kwargs-in-python-explained/)"
   ]
  },
  {
   "cell_type": "code",
   "execution_count": 21,
   "metadata": {
    "collapsed": false
   },
   "outputs": [
    {
     "name": "stdout",
     "output_type": "stream",
     "text": [
      "negative\n",
      "zero\n",
      "positive\n"
     ]
    }
   ],
   "source": [
    "# def <name>(arg1, arg2, ..., argN):\n",
    "#     <statements>\n",
    "#     return <value>\n",
    "\n",
    "def sign(x):\n",
    "    if x > 0:\n",
    "        return 'positive'\n",
    "    elif x < 0:\n",
    "        return 'negative'\n",
    "    else:\n",
    "        return 'zero'\n",
    "\n",
    "for x in [-1, 0, 1]:\n",
    "    print(sign(x))"
   ]
  },
  {
   "cell_type": "markdown",
   "metadata": {},
   "source": [
    "#### Passing Arguments to Functions\n",
    "\n",
    "* Arguments are passed by assignment\n",
    "* Passed arguments are assigned to local names\n",
    "* Assignment to argument names do not affect the caller\n",
    "* Can define defaults for arguments that need not be passed"
   ]
  },
  {
   "cell_type": "code",
   "execution_count": 23,
   "metadata": {
    "collapsed": false
   },
   "outputs": [
    {
     "name": "stdout",
     "output_type": "stream",
     "text": [
      "Hello, Bob\n",
      "HELLO, FRED!\n"
     ]
    }
   ],
   "source": [
    "def hello(name, loud=False):\n",
    "    if loud:\n",
    "        print('HELLO, {}!'.format(name.upper()))\n",
    "    else:\n",
    "        print('Hello, {}'.format(name))\n",
    "\n",
    "hello('Bob') # uses the default value for loud\n",
    "hello('Fred', loud=True)"
   ]
  },
  {
   "cell_type": "markdown",
   "metadata": {},
   "source": [
    "### Modules <a name=\"Modules\"></a>\n",
    "* Modules are functions and variables defined in separate files\n",
    "* Items are imported using from or import\n",
    "\n",
    "```python\n",
    "from module import function\n",
    "function()\n",
    "\n",
    "import module\n",
    "module.function()\n",
    "```"
   ]
  },
  {
   "cell_type": "markdown",
   "metadata": {},
   "source": [
    "#### Why use Modules?\n",
    "* Module allows you to logically organize your Python code. Grouping related code into a module makes the code easier use.\n",
    "* Implementing shared services or data\n",
    "    * Can provide global data structure that is accessed by multiple subprograms"
   ]
  },
  {
   "cell_type": "markdown",
   "metadata": {},
   "source": [
    "```python\n",
    "# cal_module.py - a separate python file\n",
    "# define some variables\n",
    "input_1 = 1\n",
    "input_2 = 2 \n",
    "\n",
    "# define some functions\n",
    "def add(a, b):\n",
    "    return a + b\n",
    "\n",
    "def subtract(a, b):\n",
    "    return a - b\n",
    "```"
   ]
  },
  {
   "cell_type": "markdown",
   "metadata": {},
   "source": [
    "```python\n",
    "# calculator.py - current file name\n",
    "\n",
    "import cal_module\n",
    "\n",
    "cal_module.input_1 = 5\n",
    "answer1 = cal_module.add(2, 3)\n",
    "answer2 = cal_module.subtract(2,3)\n",
    "```"
   ]
  },
  {
   "cell_type": "markdown",
   "metadata": {},
   "source": [
    "### Classes and Objects <a name=\"ClassesandObjects\"></a>\n",
    "* A software item that contains variables and methods\n",
    "* Objects are an encapsulation of variables and functions into a single entity\n",
    "* Objects get their variables and functions from classes\n",
    "* Classes are essentially a template to create your objects"
   ]
  },
  {
   "cell_type": "code",
   "execution_count": 24,
   "metadata": {
    "collapsed": true
   },
   "outputs": [],
   "source": [
    "class Greeter(object):\n",
    "    # Constructor\n",
    "    def __init__(self, name):\n",
    "        self.name = name  # Create an instance variable\n",
    "\n",
    "    # Instance method\n",
    "    def greet(self, loud=False):\n",
    "        if loud:\n",
    "            print('HELLO, {}!'.format(self.name.upper()))\n",
    "        else:\n",
    "            print('Hello, {}'.format(self.name))"
   ]
  },
  {
   "cell_type": "code",
   "execution_count": 25,
   "metadata": {
    "collapsed": false
   },
   "outputs": [
    {
     "name": "stdout",
     "output_type": "stream",
     "text": [
      "Hello, Fred\n",
      "HELLO, FRED!\n"
     ]
    }
   ],
   "source": [
    "g = Greeter('Fred')  # Construct an instance of the Greeter class\n",
    "g.greet()            # Call an instance method\n",
    "g.greet(loud=True)   # Call an instance method"
   ]
  },
  {
   "cell_type": "markdown",
   "metadata": {},
   "source": [
    "### Special Functions <a name=\"SpecialFunctions\"></a>"
   ]
  },
  {
   "cell_type": "markdown",
   "metadata": {},
   "source": [
    "### lambda <a name=\"Numpy\"></a>\n",
    "* A `lambda` function is a small anonymous function.\n",
    "* A `lambda` function can take any number of arguments, but can only have one expression.\n",
    "* Basic syntax\n",
    "    * `lambda <arguments> : <expression>`\n",
    "* `lambda` operator can have any number of arguments, but it can have only one expression. It cannot contain any statements and it returns a function object which can be assigned to any variable.\n",
    "\n",
    "_Note_. There is not much difference between functions and lambda functions. **In our course we encourage you to use explicitly defined functions for readability.** For more details however, see the first answer [here](https://stackoverflow.com/questions/12264834/what-is-the-difference-for-python-between-lambda-and-regular-function)."
   ]
  },
  {
   "cell_type": "code",
   "execution_count": 26,
   "metadata": {
    "collapsed": false
   },
   "outputs": [
    {
     "name": "stdout",
     "output_type": "stream",
     "text": [
      "5\n",
      "5\n"
     ]
    }
   ],
   "source": [
    "# Example 1\n",
    "def add(x, y): \n",
    "    return x + y\n",
    "  \n",
    "# Call the function\n",
    "print(add(2, 3))\n",
    "\n",
    "add_lambda = lambda x, y : x + y \n",
    "print(add_lambda(2, 3))"
   ]
  },
  {
   "cell_type": "code",
   "execution_count": 27,
   "metadata": {
    "collapsed": false
   },
   "outputs": [
    {
     "name": "stdout",
     "output_type": "stream",
     "text": [
      "22\n",
      "33\n"
     ]
    }
   ],
   "source": [
    "# you have a function definition that takes one argument\n",
    "# that argument will be multiplied with an unknown number\n",
    "def myfunc(n):\n",
    "  return lambda a : a * n\n",
    "\n",
    "# create the function mydoubler that multiplies an argument by 2\n",
    "mydoubler = myfunc(2)\n",
    "# give 11 as the argument\n",
    "print(mydoubler(11))\n",
    "\n",
    "# create the function mytripler that multiplies an argument by 3\n",
    "mytripler = myfunc(3)\n",
    "# give 11 as the argument\n",
    "print(mytripler(11))"
   ]
  },
  {
   "cell_type": "markdown",
   "metadata": {},
   "source": [
    "## External Libraries <a name=\"Libraries\"></a>"
   ]
  },
  {
   "cell_type": "markdown",
   "metadata": {},
   "source": [
    "### Numpy <a name=\"Numpy\"></a>\n",
    "Numpy is the core library for scientific computing in Python. It provides high-performance multidimensional array objects, and tools for working with these arrays."
   ]
  },
  {
   "cell_type": "code",
   "execution_count": 28,
   "metadata": {
    "collapsed": false
   },
   "outputs": [
    {
     "name": "stdout",
     "output_type": "stream",
     "text": [
      "(3,)\n",
      "(1, 2, 3)\n",
      "[5 2 3]\n",
      "(2, 3)\n",
      "(1, 2, 4)\n"
     ]
    }
   ],
   "source": [
    "import numpy as np        #import the numpy library to access it's functions\n",
    "\n",
    "a = np.array([1, 2, 3])   # Create a rank 1 array\n",
    "print(a.shape)            \n",
    "print(a[0], a[1], a[2])   # Print each element\n",
    "a[0] = 5                  # Change an element of the array\n",
    "print(a)                  \n",
    "\n",
    "b = np.array([[1,2,3],[4,5,6]])    # Create a rank 2 array\n",
    "print(b.shape)                     \n",
    "print(b[0, 0], b[0, 1], b[1, 0])   # Prints \"1 2 4\""
   ]
  },
  {
   "cell_type": "code",
   "execution_count": 29,
   "metadata": {
    "collapsed": false
   },
   "outputs": [
    {
     "name": "stdout",
     "output_type": "stream",
     "text": [
      "[[ 0.  0.]\n",
      " [ 0.  0.]]\n",
      "[[ 1.  1.]]\n",
      "[[ 7.  7.]\n",
      " [ 7.  7.]]\n",
      "[[ 1.  0.]\n",
      " [ 0.  1.]]\n",
      "[[ 0.77979192  0.52323369]\n",
      " [ 0.58519623  0.18180575]]\n"
     ]
    },
    {
     "name": "stderr",
     "output_type": "stream",
     "text": [
      "C:\\Anaconda2\\lib\\site-packages\\numpy\\core\\numeric.py:301: FutureWarning: in the future, full((2, 2), 7) will return an array of dtype('int32')\n",
      "  format(shape, fill_value, array(fill_value).dtype), FutureWarning)\n"
     ]
    }
   ],
   "source": [
    "# numpy functions that can be used to create arrays\n",
    "a = np.zeros((2,2))   # Create an array of all zeros\n",
    "print(a)                                \n",
    "\n",
    "b = np.ones((1,2))    # Create an array of all ones\n",
    "print(b)             \n",
    "\n",
    "c = np.full((2,2), 7)  \n",
    "print(c)              \n",
    "\n",
    "d = np.eye(2)         # Create a 2x2 identity matrix\n",
    "print(d)              \n",
    "\n",
    "e = np.random.random((2,2))  # Create an array filled with random values\n",
    "print(e)                     "
   ]
  },
  {
   "cell_type": "markdown",
   "metadata": {},
   "source": [
    "#### Array indexing\n",
    "Similar to Python lists, numpy arrays can be sliced. Since arrays may be multidimensional, you must specify a slice for each dimension of the array:"
   ]
  },
  {
   "cell_type": "code",
   "execution_count": 30,
   "metadata": {
    "collapsed": false
   },
   "outputs": [
    {
     "name": "stdout",
     "output_type": "stream",
     "text": [
      "[[ 1  2  3  4]\n",
      " [ 5  6  7  8]\n",
      " [ 9 10 11 12]]\n",
      "[[2 3]\n",
      " [6 7]]\n",
      "2\n",
      "77\n"
     ]
    }
   ],
   "source": [
    "import numpy as np\n",
    "\n",
    "# Create the following rank 2 array with shape (3, 4)\n",
    "# [[ 1  2  3  4]\n",
    "#  [ 5  6  7  8]\n",
    "#  [ 9 10 11 12]]\n",
    "a = np.array([[1,2,3,4], [5,6,7,8], [9,10,11,12]])\n",
    "print(a)\n",
    "\n",
    "# Use slicing to pull out the subarray consisting of the first 2 rows\n",
    "# and columns 1 and 2; b is the following array of shape (2, 2):\n",
    "b = a[:2, 1:3]\n",
    "print(b)\n",
    "\n",
    "# A slice of an array is a view into the same data, so modifying it\n",
    "# will modify the original array.\n",
    "print(a[0, 1])   \n",
    "b[0, 0] = 77     # b[0, 0] is the same piece of data as a[0, 1]\n",
    "print(a[0, 1])   # Prints \"77\""
   ]
  },
  {
   "cell_type": "markdown",
   "metadata": {},
   "source": [
    "#### Numpy datatypes\n",
    "Every Numpy array is a grid of elements of the same type. Numpy provides a large set of numeric datatypes that you can use to construct arrays. Numpy tries to guess a datatype when you create an array, but functions that construct arrays usually also include an optional argument to explicitly specify the datatype."
   ]
  },
  {
   "cell_type": "code",
   "execution_count": 31,
   "metadata": {
    "collapsed": false
   },
   "outputs": [
    {
     "name": "stdout",
     "output_type": "stream",
     "text": [
      "int32\n",
      "float64\n",
      "int64\n"
     ]
    }
   ],
   "source": [
    "import numpy as np\n",
    "\n",
    "x = np.array([1, 2])   # Let numpy choose the datatype\n",
    "print(x.dtype)         \n",
    "\n",
    "x = np.array([1.0, 2.0])   # Let numpy choose the datatype\n",
    "print(x.dtype)             \n",
    "\n",
    "x = np.array([1, 2], dtype=np.int64)   # Force a particular datatype\n",
    "print(x.dtype)                         "
   ]
  },
  {
   "cell_type": "markdown",
   "metadata": {},
   "source": [
    "#### Array math\n",
    "Basic mathematical functions operate elementwise on arrays, and are available as functions in the numpy module."
   ]
  },
  {
   "cell_type": "code",
   "execution_count": 35,
   "metadata": {
    "collapsed": false
   },
   "outputs": [
    {
     "name": "stdout",
     "output_type": "stream",
     "text": [
      "[[  6.   8.]\n",
      " [ 10.  12.]]\n",
      "[[  6.   8.]\n",
      " [ 10.  12.]]\n",
      "[[-4. -4.]\n",
      " [-4. -4.]]\n",
      "[[-4. -4.]\n",
      " [-4. -4.]]\n",
      "[[  5.  12.]\n",
      " [ 21.  32.]]\n",
      "[[  5.  12.]\n",
      " [ 21.  32.]]\n",
      "[[ 0.2         0.33333333]\n",
      " [ 0.42857143  0.5       ]]\n",
      "[[ 0.2         0.33333333]\n",
      " [ 0.42857143  0.5       ]]\n",
      "[[ 1.          1.41421356]\n",
      " [ 1.73205081  2.        ]]\n"
     ]
    }
   ],
   "source": [
    "x = np.array([[1,2],[3,4]], dtype=np.float64)\n",
    "y = np.array([[5,6],[7,8]], dtype=np.float64)\n",
    "\n",
    "# Elementwise sum\n",
    "print(x + y)\n",
    "print(np.add(x, y))\n",
    "\n",
    "# Elementwise difference\n",
    "print(x - y)\n",
    "print(np.subtract(x, y))\n",
    "\n",
    "# Elementwise product\n",
    "print(x * y)\n",
    "print(np.multiply(x, y))\n",
    "\n",
    "# Elementwise division\n",
    "print(x / y)\n",
    "print(np.divide(x, y))\n",
    "\n",
    "# Elementwise square root\n",
    "print(np.sqrt(x))"
   ]
  },
  {
   "cell_type": "markdown",
   "metadata": {},
   "source": [
    "Note that `*` is elementwise multiplication, not matrix multiplication. We instead use the `np.dot` function to compute inner products of vectors, to multiply a vector by a matrix, and to multiply matrices. `np.dot` is available both as a function in the Numpy module and as an instance method of array objects. \n",
    "\n",
    "Another alternative is to use the operator `@` for matrix multiplication. \n",
    "\n",
    "_Note_. `@` and `np.dot` give the same result for vectors and matrices. However they operate differently in general N-dimnetional case. More details can be found [here](https://stackoverflow.com/questions/34142485/difference-between-numpy-dot-and-python-3-5-matrix-multiplication#34142617)."
   ]
  },
  {
   "cell_type": "code",
   "execution_count": 34,
   "metadata": {
    "collapsed": false
   },
   "outputs": [
    {
     "ename": "SyntaxError",
     "evalue": "invalid syntax (<ipython-input-34-1a8813d0f980>, line 10)",
     "output_type": "error",
     "traceback": [
      "\u001b[1;36m  File \u001b[1;32m\"<ipython-input-34-1a8813d0f980>\"\u001b[1;36m, line \u001b[1;32m10\u001b[0m\n\u001b[1;33m    print(v@w)\u001b[0m\n\u001b[1;37m           ^\u001b[0m\n\u001b[1;31mSyntaxError\u001b[0m\u001b[1;31m:\u001b[0m invalid syntax\n"
     ]
    }
   ],
   "source": [
    "x = np.array([[1,2],[3,4]])\n",
    "y = np.array([[5,6],[7,8]])\n",
    "\n",
    "v = np.array([9,10])\n",
    "w = np.array([11, 12])\n",
    "\n",
    "# Inner product of vectors\n",
    "print(v.dot(w))\n",
    "print(np.dot(v, w))\n",
    "print(v@w)\n",
    "\n",
    "# Matrix / vector product\n",
    "print(x.dot(v))\n",
    "print(np.dot(x, v))\n",
    "print(x@v)\n",
    "\n",
    "# Matrix / matrix product\n",
    "print(x.dot(y))\n",
    "print(np.dot(x, y))\n",
    "print(x@y)\n"
   ]
  },
  {
   "cell_type": "markdown",
   "metadata": {},
   "source": [
    "Numpy provides many useful functions for performing computations on arrays; one of the most useful is sum:"
   ]
  },
  {
   "cell_type": "code",
   "execution_count": 36,
   "metadata": {
    "collapsed": false
   },
   "outputs": [
    {
     "name": "stdout",
     "output_type": "stream",
     "text": [
      "10\n",
      "[4 6]\n",
      "[3 7]\n"
     ]
    }
   ],
   "source": [
    "x = np.array([[1,2],[3,4]])\n",
    "\n",
    "print(np.sum(x))  # Compute sum of all elements\n",
    "print(np.sum(x, axis=0))  # Compute sum of each column\n",
    "print(np.sum(x, axis=1))  # Compute sum of each row"
   ]
  },
  {
   "cell_type": "markdown",
   "metadata": {},
   "source": [
    "Apart from computing mathematical functions using arrays, we frequently need to reshape or otherwise manipulate data in arrays. The simplest example of this type of operation is transposing a matrix; to transpose a matrix, simply use the T attribute of an array object"
   ]
  },
  {
   "cell_type": "code",
   "execution_count": 37,
   "metadata": {
    "collapsed": false
   },
   "outputs": [
    {
     "name": "stdout",
     "output_type": "stream",
     "text": [
      "[[1 2]\n",
      " [3 4]]\n",
      "[[1 3]\n",
      " [2 4]]\n",
      "[1 2 3]\n",
      "[1 2 3]\n"
     ]
    }
   ],
   "source": [
    "x = np.array([[1,2], [3,4]])\n",
    "print(x)      \n",
    "print(x.T)  \n",
    "\n",
    "# Note that taking the transpose of a rank 1 array does nothing:\n",
    "v = np.array([1,2,3])\n",
    "print(v)    \n",
    "print(v.T)  "
   ]
  },
  {
   "cell_type": "markdown",
   "metadata": {},
   "source": [
    "### Matplotlib <a name=\"Matplotlib\"></a>\n",
    "Matplotlib is a Python 2D plotting library which produces publication quality figures in a variety of formats and interactive environments across platforms. Matplotlib can be used in Python scripts, the Python and IPython shells, the Jupyter notebook, web application servers, and four graphical user interface toolkits."
   ]
  },
  {
   "cell_type": "code",
   "execution_count": 69,
   "metadata": {
    "collapsed": false
   },
   "outputs": [],
   "source": [
    "# install matplotlib via pip first\n",
    "import matplotlib.pyplot as plt\n",
    "import numpy as np\n",
    "\n",
    "# x values to be plotted, see documentation\n",
    "x = np.linspace(0, 2, 100)\n",
    "\n",
    "# get the corresponding y values for each x value\n",
    "y1 = x # y = x plot\n",
    "y2 = x**2 # y = x^2 plot\n",
    "y3 = x**3 # y = x^3 plot\n",
    "\n",
    "plt.plot(x, y1, label='linear')\n",
    "plt.plot(x, y2, label='quadratic')\n",
    "plt.plot(x, y3, label='cubic')\n",
    "\n",
    "plt.xlabel('x label')\n",
    "plt.ylabel('y label')\n",
    "\n",
    "plt.title(\"Simple Plot\")\n",
    "\n",
    "plt.legend()\n",
    "\n",
    "plt.show()"
   ]
  },
  {
   "cell_type": "markdown",
   "metadata": {},
   "source": [
    "#### [Multiple subplots](https://matplotlib.org/gallery/subplots_axes_and_figures/subplot.html)\n",
    "Simple demo with multiple subplots."
   ]
  },
  {
   "cell_type": "code",
   "execution_count": 42,
   "metadata": {
    "collapsed": true
   },
   "outputs": [],
   "source": [
    "x1 = np.linspace(0.0, 5.0)\n",
    "x2 = np.linspace(0.0, 2.0)\n",
    "\n",
    "y1 = np.cos(2 * np.pi * x1) * np.exp(-x1)\n",
    "y2 = np.cos(2 * np.pi * x2)\n",
    "\n",
    "# plot y1 against x1\n",
    "plt.subplot(2, 1, 1)\n",
    "plt.plot(x1, y1, 'o-')\n",
    "plt.title('A tale of 2 subplots')\n",
    "plt.ylabel('Damped oscillation')\n",
    "\n",
    "# plot y2 against x2\n",
    "plt.subplot(2, 1, 2)\n",
    "plt.plot(x2, y2, '.-')\n",
    "\n",
    "plt.xlabel('time (s)')\n",
    "plt.ylabel('Undamped')\n",
    "\n",
    "plt.show()"
   ]
  },
  {
   "cell_type": "markdown",
   "metadata": {},
   "source": [
    "#### [3D surface (color map)](https://matplotlib.org/gallery/mplot3d/surface3d.html)"
   ]
  },
  {
   "cell_type": "code",
   "execution_count": 70,
   "metadata": {
    "collapsed": true
   },
   "outputs": [],
   "source": [
    "# This import registers the 3D projection, but is otherwise unused.\n",
    "-"
   ]
  },
  {
   "cell_type": "markdown",
   "metadata": {},
   "source": [
    "### Scipy <a name=\"Scipy\"></a>\n",
    "* Contains various toolboxes dedicated to common issues in scientific computing\n",
    "    * integration, optimization, image processing, statistics, special functions (fft) etc.\n",
    "* numpy and scipy work hand in hand. It is meant to operate efficiently on numpy arrays"
   ]
  },
  {
   "cell_type": "code",
   "execution_count": 44,
   "metadata": {
    "collapsed": false
   },
   "outputs": [
    {
     "data": {
      "text/plain": [
       "[<matplotlib.lines.Line2D at 0x89dc890>,\n",
       " <matplotlib.lines.Line2D at 0x89dc990>]"
      ]
     },
     "execution_count": 44,
     "metadata": {},
     "output_type": "execute_result"
    }
   ],
   "source": [
    "# install scipy using pip first\n",
    "# Example -  find and plot the maximum of a Bessel function\n",
    "from scipy import special, optimize\n",
    "\n",
    "# returns the Bessel function value to the coresponding x\n",
    "f = lambda x: -special.jv(3, x)\n",
    "# note that the function finds the minimum, therefore we negate the Bessel function (see above line)\n",
    "sol = optimize.minimize(f, 1.0)\n",
    "\n",
    "# Plot\n",
    "x = np.linspace(0, 10, 5000)\n",
    "# Here, we plot the positive Bessel function\n",
    "plt.plot(x, special.jv(3, x), '-', sol.x, -sol.fun, 'o')"
   ]
  },
  {
   "cell_type": "markdown",
   "metadata": {},
   "source": [
    "## Report\n",
    "\n",
    "You will not submit any reports for this workshop. You can show your number guessing game to your demonstrator and get his/her feedback."
   ]
  },
  {
   "cell_type": "markdown",
   "metadata": {},
   "source": [
    "## Exercise - Number Guessing Game <a name=\"Exercise\"></a>\n",
    "\n",
    "Write a number guessing game (function) to find a random real number on the interval $[0,1]$ up to a given $0<\\epsilon \\ll 1$ accuracy.\n",
    "\n",
    "**Input** to the program: $0<\\epsilon \\ll 1$ (your program should generate a random number within $[0,1]$)\n",
    "\n",
    "**Output**: the sequence of guesses, the original number, and the number you have found with your algorithm.\n",
    "\n",
    "*Hints: consider an efficient algorithm, stopping criterion etc.*\n",
    "\n",
    "The integer version of the game is discussed at: <br> https://www.khanacademy.org/computing/computer-science/algorithms/intro-to-algorithms/a/a-guessing-game <br>\n",
    "as well as in many other places on the Internet!"
   ]
  },
  {
   "cell_type": "code",
   "execution_count": 73,
   "metadata": {
    "collapsed": false
   },
   "outputs": [
    {
     "name": "stdout",
     "output_type": "stream",
     "text": [
      "[ 0.11610863]\n",
      "0.116108626127\n",
      "24\n"
     ]
    }
   ],
   "source": [
    "import numpy as np\n",
    "e = np.random.random(1)  # Create an array filled with random values\n",
    "ming=0\n",
    "maxg=1.0\n",
    "guess=(ming+maxg)/2\n",
    "epsilon=0.00000001;\n",
    "count1=0\n",
    "print(e) \n",
    "while (abs(guess-e)) > epsilon:\n",
    "    count1+=1\n",
    "    if e < guess: \n",
    "        maxg=guess\n",
    "    else:\n",
    "        ming=guess       \n",
    "    guess=(ming+maxg)/2 \n",
    "print(guess)\n",
    "print(count1)\n",
    "\n"
   ]
  },
  {
   "cell_type": "code",
   "execution_count": null,
   "metadata": {
    "collapsed": true
   },
   "outputs": [],
   "source": []
  }
 ],
 "metadata": {
  "anaconda-cloud": {},
  "kernelspec": {
   "display_name": "Python [Root]",
   "language": "python",
   "name": "Python [Root]"
  },
  "language_info": {
   "codemirror_mode": {
    "name": "ipython",
    "version": 2
   },
   "file_extension": ".py",
   "mimetype": "text/x-python",
   "name": "python",
   "nbconvert_exporter": "python",
   "pygments_lexer": "ipython2",
   "version": "2.7.12"
  }
 },
 "nbformat": 4,
 "nbformat_minor": 2
}
